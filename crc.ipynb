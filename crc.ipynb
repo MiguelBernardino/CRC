{
  "cells": [
    {
      "cell_type": "code",
      "execution_count": 19,
      "metadata": {
        "id": "e5JC8JQa505D"
      },
      "outputs": [],
      "source": [
        "!wget -nc -q https://raw.githubusercontent.com/jpatokal/openflights/master/data/airports.dat\n",
        "!wget -nc -q https://raw.githubusercontent.com/jpatokal/openflights/master/data/routes.dat"
      ]
    },
    {
      "cell_type": "code",
      "execution_count": 20,
      "metadata": {
        "id": "IhbcJogFWnY1"
      },
      "outputs": [],
      "source": [
        "import networkx as nx"
      ]
    },
    {
      "cell_type": "code",
      "execution_count": 21,
      "metadata": {
        "id": "P7X5jd2DdiAM"
      },
      "outputs": [],
      "source": [
        "G = nx.Graph()"
      ]
    },
    {
      "cell_type": "code",
      "execution_count": 22,
      "metadata": {
        "id": "vTrNTZEYgDWB"
      },
      "outputs": [],
      "source": [
        "airports = open(\"airports.dat\", \"r\")\n",
        "while True:\n",
        "    line = airports.readline()\n",
        "\n",
        "    if not line:\n",
        "        break\n",
        "\n",
        "    p = line.split(\",\")\n",
        "\n",
        "    #wrongly formated lines\n",
        "    if p[4] == \"\\\\N\" or len(p[4])!=5: continue;\n",
        "\n",
        "    G.add_node(p[4].strip('\\\"'), pos=(p[6],p[7]))\n",
        "\n",
        "airports.close()"
      ]
    },
    {
      "cell_type": "code",
      "execution_count": 23,
      "metadata": {
        "colab": {
          "base_uri": "https://localhost:8080/"
        },
        "id": "DiSrc2C4hECI",
        "outputId": "dc0876ff-9aea-46f9-bece-778dc9682462"
      },
      "outputs": [
        {
          "name": "stdout",
          "output_type": "stream",
          "text": [
            "6054\n",
            "0\n"
          ]
        }
      ],
      "source": [
        "print(len(G.nodes))\n",
        "print(len(G.edges))"
      ]
    },
    {
      "cell_type": "code",
      "execution_count": 24,
      "metadata": {
        "id": "fhqH7HZLc22J"
      },
      "outputs": [],
      "source": [
        "routes = open(\"routes.dat\", \"r\")\n",
        "\n",
        "while True:\n",
        "    line = routes.readline()\n",
        "\n",
        "    if not line:\n",
        "        break\n",
        "\n",
        "    p = line.split(\",\")\n",
        "    G.add_edge(p[2], p[4])\n",
        "\n",
        "routes.close()"
      ]
    },
    {
      "cell_type": "code",
      "execution_count": 25,
      "metadata": {},
      "outputs": [
        {
          "name": "stdout",
          "output_type": "stream",
          "text": [
            "6230\n",
            "19257\n"
          ]
        }
      ],
      "source": [
        "print(len(G.nodes))\n",
        "print(len(G.edges))"
      ]
    },
    {
      "cell_type": "code",
      "execution_count": 26,
      "metadata": {
        "colab": {
          "base_uri": "https://localhost:8080/",
          "height": 197
        },
        "id": "JVvy4rTR8K3u",
        "outputId": "533cf13c-0ea6-4877-d46c-5d59978426e2"
      },
      "outputs": [],
      "source": [
        "H = G.copy()\n",
        "for node in H.nodes(data=True) :\n",
        "  if node[1] == {}:\n",
        "    G.remove_node(node[0])"
      ]
    },
    {
      "cell_type": "code",
      "execution_count": 27,
      "metadata": {
        "colab": {
          "base_uri": "https://localhost:8080/",
          "height": 179
        },
        "id": "13V4eKwfeFkq",
        "outputId": "694ba961-44cb-4fd5-da10-2cce49845ecc"
      },
      "outputs": [
        {
          "name": "stdout",
          "output_type": "stream",
          "text": [
            "6054\n",
            "18792\n"
          ]
        }
      ],
      "source": [
        "print(len(G.nodes))\n",
        "print(len(G.edges))"
      ]
    }
  ],
  "metadata": {
    "colab": {
      "provenance": []
    },
    "kernelspec": {
      "display_name": "Python 3",
      "name": "python3"
    },
    "language_info": {
      "codemirror_mode": {
        "name": "ipython",
        "version": 3
      },
      "file_extension": ".py",
      "mimetype": "text/x-python",
      "name": "python",
      "nbconvert_exporter": "python",
      "pygments_lexer": "ipython3",
      "version": "3.9.1"
    }
  },
  "nbformat": 4,
  "nbformat_minor": 0
}
