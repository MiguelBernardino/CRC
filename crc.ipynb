{
  "cells": [
    {
      "cell_type": "code",
      "execution_count": null,
      "metadata": {
        "id": "e5JC8JQa505D"
      },
      "outputs": [],
      "source": [
        "!wget -nc -q https://raw.githubusercontent.com/jpatokal/openflights/master/data/airports.dat\n",
        "!wget -nc -q https://raw.githubusercontent.com/jpatokal/openflights/master/data/routes.dat"
      ]
    },
    {
      "cell_type": "code",
      "execution_count": 38,
      "metadata": {
        "id": "IhbcJogFWnY1"
      },
      "outputs": [],
      "source": [
        "import networkx as nx\n",
        "import math\n",
        "from PIL import Image, ImageDraw\n",
        "import pyproj\n",
        "import numpy as np\n",
        "import matplotlib.pyplot as plt"
      ]
    },
    {
      "cell_type": "code",
      "execution_count": null,
      "metadata": {
        "id": "P7X5jd2DdiAM"
      },
      "outputs": [],
      "source": [
        "G = nx.DiGraph()"
      ]
    },
    {
      "cell_type": "code",
      "execution_count": null,
      "metadata": {
        "id": "vTrNTZEYgDWB"
      },
      "outputs": [],
      "source": [
        "airports = open(\"airports.dat\", \"r\")\n",
        "while True:\n",
        "    line = airports.readline()\n",
        "\n",
        "    if not line:\n",
        "        break\n",
        "\n",
        "    p = line.split(\",\")\n",
        "\n",
        "    #wrongly formated lines\n",
        "    if p[4] == \"\\\\N\" or len(p[4])!=5: continue;\n",
        "    print(p[4].strip('\\\"'), p[6], p[7])\n",
        "    G.add_node(p[4].strip('\\\"'), pos=(p[6],p[7]))\n",
        "\n",
        "airports.close()"
      ]
    },
    {
      "cell_type": "code",
      "execution_count": null,
      "metadata": {
        "colab": {
          "base_uri": "https://localhost:8080/"
        },
        "id": "DiSrc2C4hECI",
        "outputId": "dc0876ff-9aea-46f9-bece-778dc9682462"
      },
      "outputs": [],
      "source": [
        "print(len(G.nodes))\n",
        "print(len(G.edges))"
      ]
    },
    {
      "cell_type": "code",
      "execution_count": null,
      "metadata": {
        "id": "fhqH7HZLc22J"
      },
      "outputs": [],
      "source": [
        "routes = open(\"routes.dat\", \"r\")\n",
        "\n",
        "while True:\n",
        "    line = routes.readline()\n",
        "\n",
        "    if not line:\n",
        "        break\n",
        "\n",
        "    p = line.split(\",\")\n",
        "    print(p[2], p[4])\n",
        "    G.add_edge(p[2], p[4])\n",
        "\n",
        "routes.close()"
      ]
    },
    {
      "cell_type": "code",
      "execution_count": null,
      "metadata": {},
      "outputs": [],
      "source": [
        "print(len(G.nodes))\n",
        "print(len(G.edges))"
      ]
    },
    {
      "cell_type": "code",
      "execution_count": null,
      "metadata": {
        "colab": {
          "base_uri": "https://localhost:8080/",
          "height": 197
        },
        "id": "JVvy4rTR8K3u",
        "outputId": "533cf13c-0ea6-4877-d46c-5d59978426e2"
      },
      "outputs": [],
      "source": [
        "H = G.copy()\n",
        "for node in H.nodes(data=True) :\n",
        "  if node[1] == {}:\n",
        "    G.remove_node(node[0])"
      ]
    },
    {
      "cell_type": "code",
      "execution_count": null,
      "metadata": {
        "colab": {
          "base_uri": "https://localhost:8080/",
          "height": 179
        },
        "id": "13V4eKwfeFkq",
        "outputId": "694ba961-44cb-4fd5-da10-2cce49845ecc"
      },
      "outputs": [],
      "source": [
        "print(len(G.nodes))\n",
        "print(len(G.edges))"
      ]
    },
    {
      "cell_type": "code",
      "execution_count": null,
      "metadata": {},
      "outputs": [],
      "source": [
        "G.is_directed()"
      ]
    },
    {
      "cell_type": "code",
      "execution_count": null,
      "metadata": {},
      "outputs": [],
      "source": [
        "nodes = sorted(G.degree, key=lambda x: x[1])\n",
        "print(nodes)\n",
        "print(G.degree)"
      ]
    },
    {
      "cell_type": "code",
      "execution_count": null,
      "metadata": {},
      "outputs": [],
      "source": [
        "for node in nodes :\n",
        "  if node[1] == 0:\n",
        "    G.remove_node(node[0])"
      ]
    },
    {
      "cell_type": "code",
      "execution_count": null,
      "metadata": {},
      "outputs": [],
      "source": [
        "nodes = sorted(G.degree, key=lambda x: x[1])\n",
        "print(nodes)"
      ]
    },
    {
      "cell_type": "code",
      "execution_count": null,
      "metadata": {},
      "outputs": [],
      "source": [
        "print(len(G.nodes))\n",
        "print(len(G.edges))"
      ]
    },
    {
      "cell_type": "code",
      "execution_count": null,
      "metadata": {},
      "outputs": [],
      "source": [
        "print(G.degree(\"LIS\"))"
      ]
    },
    {
      "cell_type": "code",
      "execution_count": null,
      "metadata": {},
      "outputs": [],
      "source": [
        "# Graph density\n",
        "nx.density(G)"
      ]
    },
    {
      "cell_type": "code",
      "execution_count": null,
      "metadata": {},
      "outputs": [],
      "source": [
        "# Graph diameter\n",
        "nx.diameter(G)"
      ]
    },
    {
      "cell_type": "code",
      "execution_count": 49,
      "metadata": {},
      "outputs": [
        {
          "name": "stdout",
          "output_type": "stream",
          "text": [
            "477\n"
          ]
        },
        {
          "data": {
            "text/plain": [
              "(array([5.142e+03, 4.010e+02, 1.440e+02, 1.130e+02, 5.900e+01, 5.000e+01,\n",
              "        4.700e+01, 4.100e+01, 2.300e+01, 2.900e+01, 2.100e+01, 1.800e+01,\n",
              "        1.400e+01, 9.000e+00, 1.200e+01, 1.100e+01, 1.100e+01, 1.100e+01,\n",
              "        7.000e+00, 4.000e+00, 9.000e+00, 5.000e+00, 1.000e+00, 5.000e+00,\n",
              "        4.000e+00, 2.000e+00, 5.000e+00, 2.000e+00, 6.000e+00, 2.000e+00,\n",
              "        4.000e+00, 2.000e+00, 2.000e+00, 3.000e+00, 0.000e+00, 0.000e+00,\n",
              "        2.000e+00, 2.000e+00, 0.000e+00, 0.000e+00, 2.000e+00, 0.000e+00,\n",
              "        1.000e+00, 0.000e+00, 0.000e+00, 2.000e+00, 2.000e+00]),\n",
              " array([  0.        ,  10.14893617,  20.29787234,  30.44680851,\n",
              "         40.59574468,  50.74468085,  60.89361702,  71.04255319,\n",
              "         81.19148936,  91.34042553, 101.4893617 , 111.63829787,\n",
              "        121.78723404, 131.93617021, 142.08510638, 152.23404255,\n",
              "        162.38297872, 172.53191489, 182.68085106, 192.82978723,\n",
              "        202.9787234 , 213.12765957, 223.27659574, 233.42553191,\n",
              "        243.57446809, 253.72340426, 263.87234043, 274.0212766 ,\n",
              "        284.17021277, 294.31914894, 304.46808511, 314.61702128,\n",
              "        324.76595745, 334.91489362, 345.06382979, 355.21276596,\n",
              "        365.36170213, 375.5106383 , 385.65957447, 395.80851064,\n",
              "        405.95744681, 416.10638298, 426.25531915, 436.40425532,\n",
              "        446.55319149, 456.70212766, 466.85106383, 477.        ]),\n",
              " <BarContainer object of 47 artists>)"
            ]
          },
          "execution_count": 49,
          "metadata": {},
          "output_type": "execute_result"
        },
        {
          "data": {
            "image/png": "[encoded data removed]",
            "text/plain": [
              "<Figure size 640x480 with 1 Axes>"
            ]
          },
          "metadata": {},
          "output_type": "display_data"
        }
      ],
      "source": [
        "# Degree Distribution\n",
        "degrees = [G.degree(n) for n in G.nodes()]\n",
        "print(max(degrees))\n",
        "plt.hist(degrees, bins=int(max(degrees)/10))\n",
        "# for i in range(0, max(degrees)):\n",
        "#   print(i, degrees.count(i))"
      ]
    },
    {
      "cell_type": "code",
      "execution_count": null,
      "metadata": {},
      "outputs": [],
      "source": [
        "# compute graph degree centrality\n",
        "dc = nx.degree_centrality(G)\n",
        "print(max(dc))\n",
        "print(min(dc))\n",
        "# compute eigen vector centrality\n",
        "ec = nx.eigenvector_centrality(G)\n",
        "print(max(ec))\n",
        "print(min(ec))\n",
        "# compute closeness centrality\n",
        "cc = nx.closeness_centrality(G)\n",
        "print(max(cc))\n",
        "print(min(cc))\n",
        "# compute betweenness centrality\n",
        "bc = nx.betweenness_centrality(G)\n",
        "print(max(bc))\n",
        "print(min(bc))\n",
        "# compute pagerank\n",
        "pr = nx.pagerank(G)\n",
        "print(max(pr))\n",
        "print(min(pr))\n",
        "# compute clustering coefficient\n",
        "cl = nx.clustering(G)\n",
        "print(cl)"
      ]
    },
    {
      "cell_type": "code",
      "execution_count": null,
      "metadata": {},
      "outputs": [],
      "source": [
        "G.nodes['LIS']"
      ]
    },
    {
      "cell_type": "code",
      "execution_count": null,
      "metadata": {},
      "outputs": [],
      "source": [
        "# Draw the graph in a map\n",
        "# latitude = float(G.nodes['LIS'].get('pos')[0])\n",
        "# longitude = float(G.nodes['LIS'].get('pos')[1])\n",
        "\n",
        "# #resolution of image you are using\n",
        "# mapWidth = 2048;\n",
        "# mapHeight = 1025;\n",
        "\n",
        "# #get x value\n",
        "# x = (mapWidth*(180+longitude)/360)%mapWidth+(mapWidth/2);\n",
        "# #convert from degrees to radians\n",
        "# latRad = latitude*math.pi/180;\n",
        "# #get y value\n",
        "# mercN = math.log(math.tan((math.pi/4)+(latRad/2)));\n",
        "# y = (mapHeight/2)-(mapWidth*mercN/(2*math.pi));\n",
        "# print(x, y)\n",
        "\n",
        "# Define the source and destination projections\n",
        "source_projection = pyproj.Proj(init='epsg:4326')  # WGS 84 (standard lat/lon)\n",
        "destination_projection = pyproj.Proj(init='epsg:3857')  # Web Mercator\n",
        "\n",
        "# Input geographic coordinates (longitude, latitude)\n",
        "lon, lat = float(G.nodes['LIS'].get('pos')[0]), float(G.nodes['LIS'].get('pos')[1])  # Example coordinates for New York City\n",
        "\n",
        "# Project the coordinates to the destination projection\n",
        "x, y = pyproj.transform(source_projection, destination_projection, lon, lat)\n",
        "print(x, y)\n",
        "\n",
        "def project_to_pixel(x, y, scale, x_offset, y_offset):\n",
        "    pixel_x = (x - x_offset) * scale\n",
        "    pixel_y = (y - y_offset) * scale\n",
        "    return pixel_x, pixel_y\n",
        "\n",
        "# Calculate the pixel coordinates\n",
        "scale = 0.00001 # Adjust as needed\n",
        "x_offset, y_offset = 0, 0  # Adjust as needed\n",
        "x, y = project_to_pixel(x, y, scale, x_offset, y_offset)\n",
        "print(x, y)\n",
        "image = Image.open(\"openflights-apdb-2048.png\")\n",
        "draw = ImageDraw.Draw(image)\n",
        "draw.ellipse((x,y, x+50, y+50), fill=\"black\")\n",
        "image.show()"
      ]
    }
  ],
  "metadata": {
    "colab": {
      "provenance": []
    },
    "kernelspec": {
      "display_name": "Python 3",
      "name": "python3"
    },
    "language_info": {
      "codemirror_mode": {
        "name": "ipython",
        "version": 3
      },
      "file_extension": ".py",
      "mimetype": "text/x-python",
      "name": "python",
      "nbconvert_exporter": "python",
      "pygments_lexer": "ipython3",
      "version": "3.10.12"
    }
  },
  "nbformat": 4,
  "nbformat_minor": 0
}
