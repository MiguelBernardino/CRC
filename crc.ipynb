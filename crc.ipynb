{
  "cells": [
    {
      "cell_type": "code",
      "execution_count": null,
      "metadata": {
        "id": "e5JC8JQa505D"
      },
      "outputs": [],
      "source": [
        "!wget -nc -q https://raw.githubusercontent.com/jpatokal/openflights/master/data/airports.dat\n",
        "!wget -nc -q https://raw.githubusercontent.com/jpatokal/openflights/master/data/routes.dat"
      ]
    },
    {
      "cell_type": "code",
      "execution_count": null,
      "metadata": {
        "id": "IhbcJogFWnY1"
      },
      "outputs": [],
      "source": [
        "import networkx as nx\n",
        "import math\n",
        "from PIL import Image, ImageDraw\n",
        "import pyproj\n",
        "import numpy as np\n",
        "import matplotlib.pyplot as plt\n",
        "import geopy.distance\n",
        "import pandas as pd"
      ]
    },
    {
      "cell_type": "code",
      "execution_count": null,
      "metadata": {
        "id": "P7X5jd2DdiAM"
      },
      "outputs": [],
      "source": [
        "G = nx.DiGraph()"
      ]
    },
    {
      "cell_type": "code",
      "execution_count": null,
      "metadata": {
        "id": "vTrNTZEYgDWB"
      },
      "outputs": [],
      "source": [
        "airportsDF = pd.read_csv('airports.dat', header=None, names=['id', 'name', 'city', 'country', 'IATA', 'ICAO', 'lat', 'lon', 'alt', 'timezone', 'DST', 'Tz', 'type', 'source'])\n",
        "\n",
        "for index, row in airportsDF.iterrows():\n",
        "    if row['IATA'] == '\\\\N':\n",
        "        #print(row['IATA'])\n",
        "        continue\n",
        "    G.add_node(row['IATA'], pos=(row['lat'],row['lon']))"
      ]
    },
    {
      "cell_type": "code",
      "execution_count": null,
      "metadata": {
        "colab": {
          "base_uri": "https://localhost:8080/"
        },
        "id": "DiSrc2C4hECI",
        "outputId": "dc0876ff-9aea-46f9-bece-778dc9682462"
      },
      "outputs": [],
      "source": [
        "print(len(G.nodes))\n",
        "print(len(G.edges))"
      ]
    },
    {
      "cell_type": "code",
      "execution_count": null,
      "metadata": {},
      "outputs": [],
      "source": [
        "print(G.nodes['TRF'])\n",
        "#print(G.nodes['AOS'])"
      ]
    },
    {
      "cell_type": "code",
      "execution_count": null,
      "metadata": {},
      "outputs": [],
      "source": [
        "routesDF = pd.read_csv('routes.dat', header=None, names=['airline', 'airlineID', 'source', 'sourceID', 'dest', 'destID', 'codeshare', 'stops', 'equipment'])\n",
        "\n",
        "for index, row in routesDF.iterrows():\n",
        "    if(row['source'] not in G.nodes or row['dest'] not in G.nodes):\n",
        "        continue\n",
        "    dist = geopy.distance.distance((G.nodes[row['source']]['pos']), (G.nodes[row['dest']]['pos'])).km\n",
        "    G.add_edge(row['source'], row['dest'], weight=dist)"
      ]
    },
    {
      "cell_type": "code",
      "execution_count": null,
      "metadata": {},
      "outputs": [],
      "source": [
        "print(len(G.nodes))"
      ]
    },
    {
      "cell_type": "code",
      "execution_count": null,
      "metadata": {},
      "outputs": [],
      "source": [
        "# remove nodes with zero degree\n",
        "#G.remove_nodes_from(list(nx.isolates(G)))"
      ]
    },
    {
      "cell_type": "code",
      "execution_count": null,
      "metadata": {},
      "outputs": [],
      "source": [
        "print(len(G.nodes))\n",
        "print(len(G.edges))"
      ]
    },
    {
      "cell_type": "code",
      "execution_count": null,
      "metadata": {},
      "outputs": [],
      "source": [
        "G.is_directed()"
      ]
    },
    {
      "cell_type": "code",
      "execution_count": null,
      "metadata": {},
      "outputs": [],
      "source": [
        "G.remove_nodes_from(list(nx.isolates(G)))\n",
        "H = G.copy()\n",
        "i=0\n",
        "while i == 0:\n",
        "  i = 1\n",
        "  H = G.copy()\n",
        "  for node in H.in_degree:\n",
        "    if node[1] == 0:\n",
        "      i = 0\n",
        "      G.remove_node(node[0])\n",
        "  H = G.copy()\n",
        "  for node in H.out_degree:\n",
        "    if node[1] == 0:\n",
        "      i = 0\n",
        "      G.remove_node(node[0])"
      ]
    },
    {
      "cell_type": "code",
      "execution_count": null,
      "metadata": {},
      "outputs": [],
      "source": [
        "nodes = sorted(G.degree, key=lambda x: x[1])\n",
        "print(nodes)\n",
        "print(G.degree)"
      ]
    },
    {
      "cell_type": "code",
      "execution_count": null,
      "metadata": {},
      "outputs": [],
      "source": [
        "print(len(G.nodes))"
      ]
    },
    {
      "cell_type": "code",
      "execution_count": null,
      "metadata": {},
      "outputs": [],
      "source": [
        "nodes = sorted(G.degree, key=lambda x: x[1])\n",
        "print(nodes)"
      ]
    },
    {
      "cell_type": "code",
      "execution_count": null,
      "metadata": {},
      "outputs": [],
      "source": [
        "print(len(G.nodes))\n",
        "print(len(G.edges))"
      ]
    },
    {
      "cell_type": "code",
      "execution_count": null,
      "metadata": {},
      "outputs": [],
      "source": [
        "print(G.degree(\"LIS\"))\n",
        "print(G.degree(\"ZYL\"))\n",
        "print(G.degree(\"AAE\"))"
      ]
    },
    {
      "cell_type": "code",
      "execution_count": null,
      "metadata": {},
      "outputs": [],
      "source": [
        "# Graph density\n",
        "nx.density(G)"
      ]
    },
    {
      "cell_type": "code",
      "execution_count": null,
      "metadata": {},
      "outputs": [],
      "source": [
        "# Graph diameter\n",
        "# nx.diameter(G)"
      ]
    },
    {
      "cell_type": "code",
      "execution_count": null,
      "metadata": {},
      "outputs": [],
      "source": [
        "# Degree Distribution\n",
        "degrees = [G.degree(n) for n in G.nodes()]\n",
        "print(max(degrees))\n",
        "plt.hist(degrees, bins=np.logspace(np.log10(2),np.log10(max(degrees)), 20))\n",
        "plt.xscale(\"log\")\n",
        "# for i in range(0, max(degrees)):\n",
        "#   print(i, degrees.count(i))\n"
      ]
    },
    {
      "cell_type": "code",
      "execution_count": null,
      "metadata": {},
      "outputs": [],
      "source": [
        "import collections\n",
        "\n",
        "degrees = [G.degree(n) for n in G.nodes()]\n",
        "degree_sequence = sorted(degrees, reverse=True) # degree sequence\n",
        "degreeCount = collections.Counter(degree_sequence)\n",
        "deg, cnt = zip(*degreeCount.items())\n",
        "cs = np.cumsum(cnt)\n",
        "plt.loglog(deg, cs, 'bo')\n",
        "plt.title(\"Cumulative Distribution plot\")\n",
        "plt.ylabel(\"Sample with value > Degree\")\n",
        "plt.xlabel(\"Degree\")\n",
        "plt.show()"
      ]
    },
    {
      "cell_type": "code",
      "execution_count": null,
      "metadata": {},
      "outputs": [],
      "source": [
        "# compute graph degree centrality\n",
        "dc = nx.degree_centrality(G)\n",
        "\n",
        "max_dc = max(dc, key=dc.get)\n",
        "print(max_dc)\n",
        "print(dc[max_dc])\n",
        "\n",
        "min_dc = min(dc, key=dc.get)\n",
        "print(min_dc)\n",
        "print(dc[min_dc])"
      ]
    },
    {
      "cell_type": "code",
      "execution_count": null,
      "metadata": {},
      "outputs": [],
      "source": [
        "# compute eigen vector centrality\n",
        "ec = nx.eigenvector_centrality(G)\n",
        "\n",
        "max_ec = max(ec, key=ec.get)\n",
        "print(max_ec)\n",
        "print(ec[max_ec])\n",
        "\n",
        "min_ec = min(ec, key=ec.get)\n",
        "print(min_ec)\n",
        "print(ec[min_ec])"
      ]
    },
    {
      "cell_type": "code",
      "execution_count": null,
      "metadata": {},
      "outputs": [],
      "source": [
        "# compute closeness centrality\n",
        "cc = nx.closeness_centrality(G)\n",
        "\n",
        "max_cc = max(cc, key=cc.get)\n",
        "print(max_cc)\n",
        "print(cc[max_cc])\n",
        "\n",
        "min_cc = min(cc, key=cc.get)\n",
        "print(min_cc)\n",
        "print(cc[min_cc])"
      ]
    },
    {
      "cell_type": "code",
      "execution_count": null,
      "metadata": {},
      "outputs": [],
      "source": [
        "# compute betweenness centrality\n",
        "bc = nx.betweenness_centrality(G)\n",
        "\n",
        "max_bc = max(bc, key=bc.get)\n",
        "print(max_bc)\n",
        "print(bc[max_bc])\n",
        "\n",
        "min_bc = min(bc, key=bc.get)\n",
        "print(min_bc)\n",
        "print(bc[min_bc])"
      ]
    },
    {
      "cell_type": "code",
      "execution_count": null,
      "metadata": {},
      "outputs": [],
      "source": [
        "# compute pagerank\n",
        "pr = nx.pagerank(G)\n",
        "\n",
        "max_pr = max(pr, key=pr.get)\n",
        "print(max_pr)\n",
        "print(pr[max_pr])\n",
        "\n",
        "min_pr = min(pr, key=pr.get)\n",
        "print(min_pr)\n",
        "print(pr[min_pr])"
      ]
    },
    {
      "cell_type": "code",
      "execution_count": null,
      "metadata": {},
      "outputs": [],
      "source": [
        "# compute clustering coefficient\n",
        "cl = nx.clustering(G)\n",
        "\n",
        "max_cl = max(cl, key=cl.get)\n",
        "print(max_cl)\n",
        "print(cl[max_cl])\n",
        "\n",
        "min_cl = min(cl, key=cl.get)\n",
        "print(min_cl)\n",
        "print(cl[min_cl])"
      ]
    },
    {
      "cell_type": "code",
      "execution_count": null,
      "metadata": {},
      "outputs": [],
      "source": [
        "# generate strongly connected components\n",
        "sccs = nx.strongly_connected_components(G)\n",
        "print([len(Gc) for Gc in sccs])\n",
        "\n",
        "sccs = nx.strongly_connected_components(G)\n",
        "sccs_graphs = (G.subgraph(c) for c in sccs)\n",
        "\n",
        "largest_scc = list(sccs_graphs)[0]\n",
        "print(len(largest_scc))\n",
        "print(largest_scc)\n",
        "# for node in largest_scc:\n",
        "#   print(G.nodes[node].get('country'))"
      ]
    },
    {
      "cell_type": "code",
      "execution_count": null,
      "metadata": {},
      "outputs": [],
      "source": [
        "# average shortest path\n",
        "#TODO: add weights\n",
        "avg_path_length = nx.average_shortest_path_length(largest_scc)\n",
        "print(avg_path_length)"
      ]
    },
    {
      "cell_type": "code",
      "execution_count": null,
      "metadata": {},
      "outputs": [],
      "source": [
        "nx.diameter(largest_scc)"
      ]
    },
    {
      "cell_type": "code",
      "execution_count": null,
      "metadata": {},
      "outputs": [],
      "source": [
        "G.nodes['LIS']"
      ]
    },
    {
      "cell_type": "code",
      "execution_count": null,
      "metadata": {},
      "outputs": [],
      "source": [
        "# Draw the graph in a map\n",
        "# latitude = float(G.nodes['LIS'].get('pos')[0])\n",
        "# longitude = float(G.nodes['LIS'].get('pos')[1])\n",
        "\n",
        "# #resolution of image you are using\n",
        "# mapWidth = 2048;\n",
        "# mapHeight = 1025;\n",
        "\n",
        "# #get x value\n",
        "# x = (mapWidth*(180+longitude)/360)%mapWidth+(mapWidth/2);\n",
        "# #convert from degrees to radians\n",
        "# latRad = latitude*math.pi/180;\n",
        "# #get y value\n",
        "# mercN = math.log(math.tan((math.pi/4)+(latRad/2)));\n",
        "# y = (mapHeight/2)-(mapWidth*mercN/(2*math.pi));\n",
        "# print(x, y)\n",
        "\n",
        "# Define the source and destination projections\n",
        "source_projection = pyproj.Proj(init='epsg:4326')  # WGS 84 (standard lat/lon)\n",
        "destination_projection = pyproj.Proj(init='epsg:3857')  # Web Mercator\n",
        "\n",
        "# Input geographic coordinates (longitude, latitude)\n",
        "lon, lat = float(G.nodes['LIS'].get('pos')[0]), float(G.nodes['LIS'].get('pos')[1])  # Example coordinates for New York City\n",
        "\n",
        "# Project the coordinates to the destination projection\n",
        "x, y = pyproj.transform(source_projection, destination_projection, lon, lat)\n",
        "print(x, y)\n",
        "\n",
        "def project_to_pixel(x, y, scale, x_offset, y_offset):\n",
        "    pixel_x = (x - x_offset) * scale\n",
        "    pixel_y = (y - y_offset) * scale\n",
        "    return pixel_x, pixel_y\n",
        "\n",
        "# Calculate the pixel coordinates\n",
        "scale = 0.00001 # Adjust as needed\n",
        "x_offset, y_offset = 0, 0  # Adjust as needed\n",
        "x, y = project_to_pixel(x, y, scale, x_offset, y_offset)\n",
        "print(x, y)\n",
        "image = Image.open(\"openflights-apdb-2048.png\")\n",
        "draw = ImageDraw.Draw(image)\n",
        "draw.ellipse((x,y, x+50, y+50), fill=\"black\")\n",
        "image.show()"
      ]
    },
    {
      "cell_type": "code",
      "execution_count": null,
      "metadata": {},
      "outputs": [],
      "source": [
        "import pandas as pd\n",
        "from shapely.geometry import Point\n",
        "import geopandas as gpd\n",
        "from geopandas import GeoDataFrame\n",
        "\n",
        "geometry = [Point(xy) for xy in zip(airportsDF['lon'], airportsDF['lat'])]\n",
        "gdf = GeoDataFrame(airportsDF, geometry=geometry)\n",
        "\n",
        "# lis = airportsDF.loc[airportsDF['IATA'] == 'LIS']\n",
        "# geometry = [Point(lis['lon'], lis['lat'])]\n",
        "# gdf = GeoDataFrame(lis, geometry=geometry)\n",
        "\n",
        "# #this is a simple map that goes with geopandas\n",
        "world = gpd.read_file(gpd.datasets.get_path('naturalearth_lowres'))\n",
        "gdf.plot(ax=world.plot(figsize=(20, 12)), marker='o', markersize=8, color='red')\n",
        "#gdf.plot(ax=world.plot(figsize=(20, 12)))\n",
        "#gdf.plot(ax=world.plot(figsize=(20, 12)), marker='o', markersize=8, c=dc[gdf['IATA'].item()], cmap='YlOrRd')\n"
      ]
    }
  ],
  "metadata": {
    "colab": {
      "provenance": []
    },
    "kernelspec": {
      "display_name": "Python 3",
      "name": "python3"
    },
    "language_info": {
      "codemirror_mode": {
        "name": "ipython",
        "version": 3
      },
      "file_extension": ".py",
      "mimetype": "text/x-python",
      "name": "python",
      "nbconvert_exporter": "python",
      "pygments_lexer": "ipython3",
      "version": "3.9.6"
    }
  },
  "nbformat": 4,
  "nbformat_minor": 0
}
