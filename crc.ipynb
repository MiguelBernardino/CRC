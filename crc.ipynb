{
  "cells": [
    {
      "cell_type": "code",
      "execution_count": null,
      "metadata": {
        "id": "e5JC8JQa505D"
      },
      "outputs": [],
      "source": [
        "!wget -nc -q https://raw.githubusercontent.com/jpatokal/openflights/master/data/airports.dat\n",
        "!wget -nc -q https://raw.githubusercontent.com/jpatokal/openflights/master/data/routes.dat"
      ]
    },
    {
      "cell_type": "code",
      "execution_count": null,
      "metadata": {
        "id": "IhbcJogFWnY1"
      },
      "outputs": [],
      "source": [
        "import networkx as nx\n",
        "import numpy as np\n",
        "import matplotlib.pyplot as plt\n",
        "import geopy.distance\n",
        "import pandas as pd\n",
        "from shapely.geometry import Point\n",
        "import geopandas as gpd\n",
        "from geopandas import GeoDataFrame"
      ]
    },
    {
      "cell_type": "markdown",
      "metadata": {},
      "source": [
        "## Reading and converting data format"
      ]
    },
    {
      "cell_type": "markdown",
      "metadata": {},
      "source": [
        "We start by reading the airports file to a pandas Dataframe."
      ]
    },
    {
      "cell_type": "code",
      "execution_count": null,
      "metadata": {
        "id": "vTrNTZEYgDWB"
      },
      "outputs": [],
      "source": [
        "airportsDF = pd.read_csv('airports.dat', header=None, names=['id', 'name', 'city', 'country', 'IATA', 'ICAO', 'lat', 'lon', 'alt', 'timezone', 'DST', 'Tz', 'type', 'source'])"
      ]
    },
    {
      "cell_type": "markdown",
      "metadata": {},
      "source": [
        "From there, we create a directed graph and add all the airports as nodes to it (except airports with no IATA identifier, which are ignored).\n",
        "This is because we will use this identifiers later to associate this data with the routes data."
      ]
    },
    {
      "cell_type": "code",
      "execution_count": null,
      "metadata": {},
      "outputs": [],
      "source": [
        "G = nx.DiGraph()\n",
        "\n",
        "for index, row in airportsDF.iterrows():\n",
        "    if row['IATA'] == '\\\\N':\n",
        "        continue\n",
        "    G.add_node(row['IATA'], pos=(row['lat'],row['lon']), country=row['country'])"
      ]
    },
    {
      "cell_type": "markdown",
      "metadata": {},
      "source": [
        "Our nodes are identified by their IATA identifiers and have a corresponding position (corresponding to their real geographic location) "
      ]
    },
    {
      "cell_type": "code",
      "execution_count": null,
      "metadata": {},
      "outputs": [],
      "source": [
        "print(G.nodes['LIS'])"
      ]
    },
    {
      "cell_type": "markdown",
      "metadata": {},
      "source": [
        "So far we have a graph with nodes but no edges"
      ]
    },
    {
      "cell_type": "code",
      "execution_count": null,
      "metadata": {
        "colab": {
          "base_uri": "https://localhost:8080/"
        },
        "id": "DiSrc2C4hECI",
        "outputId": "dc0876ff-9aea-46f9-bece-778dc9682462"
      },
      "outputs": [],
      "source": [
        "print(\"Node count: \" + str(len(G.nodes)))\n",
        "print(\"Edge count: \" + str(len(G.edges)))"
      ]
    },
    {
      "cell_type": "markdown",
      "metadata": {},
      "source": [
        "Now we read the routes data and add each one as an edge of our graph previously created\n",
        "This routes are directed, meaning that if an airline operates services from A to B and from B to A, both A-B and B-A are listed as diferent edges\n",
        "We also add weight to this edges, the distance between airports in km."
      ]
    },
    {
      "cell_type": "code",
      "execution_count": null,
      "metadata": {},
      "outputs": [],
      "source": [
        "routesDF = pd.read_csv('routes.dat', header=None, names=['airline', 'airlineID', 'source', 'sourceID', 'dest', 'destID', 'codeshare', 'stops', 'equipment'])\n",
        "\n",
        "for index, row in routesDF.iterrows():\n",
        "    if(row['source'] not in G.nodes or row['dest'] not in G.nodes):\n",
        "        continue\n",
        "    dist = geopy.distance.distance((G.nodes[row['source']]['pos']), (G.nodes[row['dest']]['pos'])).km\n",
        "    G.add_edge(row['source'], row['dest'], weight=dist)"
      ]
    },
    {
      "cell_type": "markdown",
      "metadata": {},
      "source": [
        "As an example, we take a route from Lisbon to Cologne to show this representation."
      ]
    },
    {
      "cell_type": "code",
      "execution_count": null,
      "metadata": {},
      "outputs": [],
      "source": [
        "print(list(G.edges('LIS',data=True))[0])"
      ]
    },
    {
      "cell_type": "markdown",
      "metadata": {},
      "source": [
        "We can now see that our graph has nodes and edges."
      ]
    },
    {
      "cell_type": "code",
      "execution_count": null,
      "metadata": {},
      "outputs": [],
      "source": [
        "print(\"Node count: \" + str(len(G.nodes)))\n",
        "print(\"Edge count: \" + str(len(G.edges)))"
      ]
    },
    {
      "cell_type": "markdown",
      "metadata": {},
      "source": [
        "## Cleaning data"
      ]
    },
    {
      "cell_type": "markdown",
      "metadata": {},
      "source": [
        "We now \"clean\" our graph, removing the nodes which have either 0 incoming flights or 0 outgoing flights (or both).\n",
        "We iterate the graph until no more changes are made. This is because after removing one node, another one might lose the only incoming or outgoing route it had previously."
      ]
    },
    {
      "cell_type": "code",
      "execution_count": null,
      "metadata": {},
      "outputs": [],
      "source": [
        "i=0\n",
        "while i == 0:\n",
        "  i = 1\n",
        "  H = G.copy()\n",
        "  for node in H.in_degree:\n",
        "    if node[1] == 0:\n",
        "      i = 0\n",
        "      G.remove_node(node[0])\n",
        "      \n",
        "  H = G.copy()\n",
        "  for node in H.out_degree:\n",
        "    if node[1] == 0:\n",
        "      i = 0\n",
        "      G.remove_node(node[0])"
      ]
    },
    {
      "cell_type": "markdown",
      "metadata": {},
      "source": [
        "We end up with a significant reduction in nodes and lose barely any edges, obtaining what we wanted and removing unutilized airports from the network."
      ]
    },
    {
      "cell_type": "code",
      "execution_count": null,
      "metadata": {},
      "outputs": [],
      "source": [
        "print(\"Node count: \" + str(len(G.nodes)))\n",
        "print(\"Edge count: \" + str(len(G.edges)))"
      ]
    },
    {
      "cell_type": "markdown",
      "metadata": {},
      "source": [
        "## Analysing network metrics"
      ]
    },
    {
      "cell_type": "markdown",
      "metadata": {},
      "source": [
        "We can also see that the Frankfurt airport, Charles de Gaulle airport in Paris and Amesterdam are the nodes with the highest degree, with around 450 incoming or outgoing routes each."
      ]
    },
    {
      "cell_type": "code",
      "execution_count": null,
      "metadata": {},
      "outputs": [],
      "source": [
        "nodes = sorted(G.degree, key=lambda x: x[1], reverse=True)\n",
        "print(nodes[0:3])"
      ]
    },
    {
      "cell_type": "markdown",
      "metadata": {},
      "source": [
        "We also see that the majority of airports have a very low degree, resulting in a near zero density in our graph."
      ]
    },
    {
      "cell_type": "code",
      "execution_count": null,
      "metadata": {},
      "outputs": [],
      "source": [
        "# Graph density\n",
        "nx.density(G)"
      ]
    },
    {
      "cell_type": "markdown",
      "metadata": {},
      "source": [
        "With the degree distribution we verify that almost 800 airports (of the near 3000) have a degree of only 2, meaning only one incoming route and one outgoing one."
      ]
    },
    {
      "cell_type": "code",
      "execution_count": null,
      "metadata": {},
      "outputs": [],
      "source": [
        "# Degree Distribution\n",
        "degrees = [G.degree(n) for n in G.nodes()]\n",
        "plt.hist(degrees, bins=np.logspace(np.log10(2),np.log10(max(degrees)), 20))\n",
        "plt.xscale(\"log\")\n",
        "plt.title(\"Histogram of Degree Distribution\")\n",
        "plt.ylabel(\"Node Count\")\n",
        "plt.xlabel(\"Degree Value\")\n"
      ]
    },
    {
      "cell_type": "markdown",
      "metadata": {},
      "source": [
        "The comulative distribution also proves this point."
      ]
    },
    {
      "cell_type": "code",
      "execution_count": null,
      "metadata": {},
      "outputs": [],
      "source": [
        "import collections\n",
        "\n",
        "degrees = [G.degree(n) for n in G.nodes()]\n",
        "degree_sequence = sorted(degrees, reverse=True) # degree sequence\n",
        "degreeCount = collections.Counter(degree_sequence)\n",
        "deg, cnt = zip(*degreeCount.items())\n",
        "cs = np.cumsum(cnt)\n",
        "plt.loglog(deg, cs, 'bo')\n",
        "plt.title(\"Cumulative Distribution plot\")\n",
        "plt.ylabel(\"Sample with value > Degree\")\n",
        "plt.xlabel(\"Degree\")\n",
        "plt.show()"
      ]
    },
    {
      "cell_type": "markdown",
      "metadata": {},
      "source": [
        "## Degree centrality"
      ]
    },
    {
      "cell_type": "markdown",
      "metadata": {},
      "source": [
        "We now calculate some metrics of the network, starting with the degree centrality\n",
        "As seen before, Frankfurt is the airport with the highest degree.\n",
        "A military base in Greenland is the one of the many airports with only degree 2, resulting in a low degree centrality."
      ]
    },
    {
      "cell_type": "code",
      "execution_count": null,
      "metadata": {},
      "outputs": [],
      "source": [
        "# compute graph degree centrality\n",
        "dc = nx.degree_centrality(G)\n",
        "\n",
        "max_dc = max(dc, key=dc.get)\n",
        "print(\"Airport with the max degree centrality: \" + max_dc)\n",
        "print(\"Value: \" + str(dc[max_dc]))\n",
        "\n",
        "min_dc = min(dc, key=dc.get)\n",
        "print(\"Airport with the min degree centrality: \" + min_dc)\n",
        "print(\"Value: \" + str(dc[min_dc]))\n",
        "\n",
        "# get top 5\n",
        "top5 = sorted(dc, key=dc.get, reverse=True)[:5]\n",
        "for airport in top5:\n",
        "    print(airport + \": \" + str(dc[airport])+ \" \" + G.nodes[airport]['country'])\n",
        "\n"
      ]
    },
    {
      "cell_type": "markdown",
      "metadata": {},
      "source": [
        "## Eigenvector centrality"
      ]
    },
    {
      "cell_type": "markdown",
      "metadata": {},
      "source": [
        "For the eigenvector centrality we get that Amsterdam airport has the highest value."
      ]
    },
    {
      "cell_type": "code",
      "execution_count": null,
      "metadata": {},
      "outputs": [],
      "source": [
        "# compute eigen vector centrality\n",
        "ec = nx.eigenvector_centrality(G)\n",
        "\n",
        "max_ec = max(ec, key=ec.get)\n",
        "print(\"Airport with the max eigenvector centrality: \" + max_ec)\n",
        "print(\"Value: \" + str(ec[max_ec]))\n",
        "\n",
        "min_ec = min(ec, key=ec.get)\n",
        "print(\"Airport with the min eigenvector centrality: \" + min_ec)\n",
        "print(\"Value: \" + str(ec[min_ec]))\n"
      ]
    },
    {
      "cell_type": "markdown",
      "metadata": {},
      "source": [
        "## Closeness centrality"
      ]
    },
    {
      "cell_type": "markdown",
      "metadata": {},
      "source": [
        "For the closeness centrality we get that Frankfurt airport has the highest value."
      ]
    },
    {
      "cell_type": "code",
      "execution_count": null,
      "metadata": {},
      "outputs": [],
      "source": [
        "# compute closeness centrality\n",
        "cc = nx.closeness_centrality(G)\n",
        "\n",
        "max_cc = max(cc, key=cc.get)\n",
        "print(\"Airport with the max closeness centrality: \" + max_cc)\n",
        "print(\"Value: \" + str(cc[max_cc]))\n",
        "\n",
        "min_cc = min(cc, key=cc.get)\n",
        "print(\"Airport with the min closeness centrality: \" + min_cc)\n",
        "print(\"Value: \" + str(cc[min_cc]))\n",
        "\n",
        "# compute closeness centrality mean\n",
        "cc_mean = sum(cc.values())/len(cc)\n",
        "print(\"Mean closeness centrality: \" + str(cc_mean))\n",
        "\n",
        "# compute mode of closeness centrality\n",
        "cc_mode = max(set(cc.values()), key=list(cc.values()).count)\n",
        "print(\"Mode of closeness centrality: \" + str(cc_mode))\n",
        "\n",
        "# compute standard deviation of closeness centrality\n",
        "cc_std = np.std(list(cc.values()))\n",
        "print(\"Standard deviation of closeness centrality: \" + str(cc_std))\n",
        "\n"
      ]
    },
    {
      "cell_type": "markdown",
      "metadata": {},
      "source": [
        "## Betweenness centrality"
      ]
    },
    {
      "cell_type": "markdown",
      "metadata": {},
      "source": [
        "For the betweenness centrality we get that Charles de Gaulle airport has the highest value."
      ]
    },
    {
      "cell_type": "code",
      "execution_count": null,
      "metadata": {},
      "outputs": [],
      "source": [
        "# compute betweenness centrality\n",
        "bc = nx.betweenness_centrality(G)\n",
        "\n",
        "max_bc = max(bc, key=bc.get)\n",
        "print(\"Airport with the max betweenness centrality: \" + max_bc)\n",
        "print(\"Value: \" + str(bc[max_bc]))\n",
        "\n",
        "min_bc = min(bc, key=bc.get)\n",
        "print(\"Airport with the min betweenness centrality: \" + min_bc)\n",
        "print(\"Value: \" + str(bc[min_bc]))\n",
        "\n",
        "# sort the betweenness centrality\n",
        "sorted_bc = sorted(bc.items(), key=lambda x: x[1], reverse=True)\n",
        "print(sorted_bc[0:5])"
      ]
    },
    {
      "cell_type": "markdown",
      "metadata": {},
      "source": [
        "## Page rank"
      ]
    },
    {
      "cell_type": "markdown",
      "metadata": {},
      "source": [
        "For the page rank we get that Charles de Gaulle airport has the highest value."
      ]
    },
    {
      "cell_type": "code",
      "execution_count": null,
      "metadata": {},
      "outputs": [],
      "source": [
        "# compute pagerank\n",
        "pr = nx.pagerank(G)\n",
        "\n",
        "max_pr = max(pr, key=pr.get)\n",
        "print(\"Airport with the max page rank: \" + max_pr)\n",
        "print(\"Value: \" + str(pr[max_pr]))\n",
        "\n",
        "min_pr = min(pr, key=pr.get)\n",
        "print(\"Airport with the min page rank: \" +min_pr)\n",
        "print(\"Value: \" + str(pr[min_pr]))\n",
        "\n",
        "# sort page rank\n",
        "sorted_pr = sorted(pr.items(), key=lambda x: x[1], reverse=True)\n",
        "print(sorted_pr[0:5])\n"
      ]
    },
    {
      "cell_type": "code",
      "execution_count": null,
      "metadata": {},
      "outputs": [],
      "source": [
        "# plot 4 histograms with the 4 centrality measures\n",
        "plt.figure(figsize=(20,10))\n",
        "plt.subplot(2,2,1)\n",
        "plt.hist(list(dc.values()), bins=20)\n",
        "plt.title(\"Degree Centrality\")\n",
        "plt.subplot(2,2,2)\n",
        "plt.hist(list(ec.values()), bins=20)\n",
        "plt.title(\"Eigenvector Centrality\")\n",
        "plt.subplot(2,2,3)\n",
        "plt.hist(list(cc.values()), bins=20)\n",
        "plt.title(\"Closeness Centrality\")\n",
        "plt.subplot(2,2,4)\n",
        "plt.hist(list(bc.values()), bins=20)\n",
        "plt.title(\"Betweenness Centrality\")\n",
        "plt.show()"
      ]
    },
    {
      "cell_type": "markdown",
      "metadata": {},
      "source": [
        "## Clustering"
      ]
    },
    {
      "cell_type": "markdown",
      "metadata": {},
      "source": [
        "For the clustring we get that Goroka airport has the highest value. \n",
        "### TODO: check why"
      ]
    },
    {
      "cell_type": "code",
      "execution_count": null,
      "metadata": {},
      "outputs": [],
      "source": [
        "# compute clustering coefficient\n",
        "cl = nx.clustering(G)\n",
        "\n",
        "max_cl = max(cl, key=cl.get)\n",
        "print(\"Airport with the max clustering: \" + max_cl)\n",
        "print(\"Value: \" + str(cl[max_cl]))\n",
        "\n",
        "min_cl = min(cl, key=cl.get)\n",
        "print(\"Airport with the min clustering: \" + min_cl)\n",
        "print(\"Value: \" + str(cl[min_cl]))"
      ]
    },
    {
      "cell_type": "markdown",
      "metadata": {},
      "source": [
        "### Strongly connected components"
      ]
    },
    {
      "cell_type": "markdown",
      "metadata": {},
      "source": [
        "Using the networkx function to get us the strongly connected components, we verify that out graph has 7.\n",
        "One of them has almost every node and the rest are small, due to this we'll only consider the biggest one in some future steps."
      ]
    },
    {
      "cell_type": "code",
      "execution_count": null,
      "metadata": {},
      "outputs": [],
      "source": [
        "# generate strongly connected components\n",
        "sccs = nx.strongly_connected_components(G)\n",
        "print([len(Gc) for Gc in sccs])\n",
        "\n",
        "sccs = nx.strongly_connected_components(G)\n",
        "sccs_graphs = (G.subgraph(c) for c in sccs)\n",
        "\n",
        "largest_scc = list(sccs_graphs)[0]\n",
        "print(len(largest_scc))"
      ]
    },
    {
      "cell_type": "markdown",
      "metadata": {},
      "source": [
        "Before having a strongly connected component, calculating the average shortest path and the diameter of the network was not possible since there were some infinite distances, now we can do it.\n",
        "## TODO remove nodes with low degree and check this metrics"
      ]
    },
    {
      "cell_type": "code",
      "execution_count": null,
      "metadata": {},
      "outputs": [],
      "source": [
        "# average shortest path\n",
        "#TODO: add weights\n",
        "\n",
        "#avg_path_length = nx.average_shortest_path_length(largest_scc, weight='weight')\n",
        "#sprint(avg_path_length)"
      ]
    },
    {
      "cell_type": "code",
      "execution_count": null,
      "metadata": {},
      "outputs": [],
      "source": [
        "#nx.diameter(largest_scc)"
      ]
    },
    {
      "cell_type": "markdown",
      "metadata": {},
      "source": [
        "## Plotting the data on a map"
      ]
    },
    {
      "cell_type": "markdown",
      "metadata": {},
      "source": [
        "We can now plot each airport in a map and give each dot some coloring and size according to its centrality.\n",
        "Having created a function that receives which centrality to be used, the list of nodes to be plotted and a threshold (values lower that this threshold won't be displayed), we can plot the maps for each of the centralities calculated before."
      ]
    },
    {
      "cell_type": "code",
      "execution_count": null,
      "metadata": {},
      "outputs": [],
      "source": [
        "def plotMap(label, centrality_dict, list_nodes, threshold):\n",
        "    newAirportsDF = pd.DataFrame(columns=['id', 'name', 'city', 'country', 'IATA', 'ICAO', 'lat', 'lon', 'alt', 'timezone', 'DST', 'Tz', 'type', 'source'])\n",
        "    \n",
        "    # get max and min to normalize\n",
        "    max_value = max(centrality_dict.values())\n",
        "    min_value = min(centrality_dict.values())\n",
        "\n",
        "    # from the list given, add the nodes that have a higher centrality value than the threshold\n",
        "    for node in list_nodes:\n",
        "        if(centrality_dict[node] > threshold):\n",
        "            x = airportsDF.loc[airportsDF['IATA'] == node]\n",
        "            x_norm = (centrality_dict[node] - min_value) / (max_value - min_value)\n",
        "            x['color'] = centrality_dict[node]\n",
        "            x['markersize'] = (x_norm **4) * 200\n",
        "            newAirportsDF = pd.concat([newAirportsDF, x])\n",
        "\n",
        "    geometry = [Point(xy) for xy in zip(newAirportsDF['lon'], newAirportsDF['lat'])]\n",
        "    gdf = GeoDataFrame(newAirportsDF, geometry=geometry)\n",
        "\n",
        "    # #this is a simple map that goes with geopandas\n",
        "    world = gpd.read_file(gpd.datasets.get_path('naturalearth_lowres'))\n",
        "    gdf.plot(column=\"color\", ax=world.plot(figsize=(20, 12)), marker='o', markersize=\"markersize\", cmap='rainbow') \n",
        "            #,legend=True, legend_kwds={\"label\": label, \"orientation\": \"horizontal\"})"
      ]
    },
    {
      "cell_type": "code",
      "execution_count": null,
      "metadata": {},
      "outputs": [],
      "source": [
        "# Ignores a warning that is not worrying in this case and creates a lot of noisy output\n",
        "import warnings\n",
        "from pandas.errors import SettingWithCopyWarning\n",
        "warnings.simplefilter(action=\"ignore\", category=SettingWithCopyWarning)"
      ]
    },
    {
      "cell_type": "code",
      "execution_count": null,
      "metadata": {},
      "outputs": [],
      "source": [
        "D = G.copy()\n",
        "print(len(D.nodes))\n",
        "print(len(D.edges))\n",
        "i=0\n",
        "while i == 0:\n",
        "  i = 1\n",
        "  H = D.copy()\n",
        "  for node in H.in_degree:\n",
        "    if node[1] < 5:\n",
        "      i = 0\n",
        "      D.remove_node(node[0])\n",
        "      \n",
        "  H = D.copy()\n",
        "  for node in H.out_degree:\n",
        "    if node[1] < 5:\n",
        "      i = 0\n",
        "      D.remove_node(node[0])\n",
        "\n",
        "print(len(D.nodes))\n",
        "nodes = sorted(D.degree, key=lambda x: x[1])\n",
        "print(nodes)\n",
        "print(len(D.edges))"
      ]
    },
    {
      "cell_type": "markdown",
      "metadata": {},
      "source": [
        "## Degree centrality map"
      ]
    },
    {
      "cell_type": "code",
      "execution_count": null,
      "metadata": {},
      "outputs": [],
      "source": [
        "plotMap(\"Degree centrality\", dc, D.nodes, 0)"
      ]
    },
    {
      "cell_type": "markdown",
      "metadata": {},
      "source": [
        "## Eigenvector centrality map"
      ]
    },
    {
      "cell_type": "code",
      "execution_count": null,
      "metadata": {},
      "outputs": [],
      "source": [
        "plotMap(\"Eigenvector centrality\", ec, D.nodes, 0)"
      ]
    },
    {
      "cell_type": "markdown",
      "metadata": {},
      "source": [
        "## Closeness centrality map"
      ]
    },
    {
      "cell_type": "code",
      "execution_count": null,
      "metadata": {},
      "outputs": [],
      "source": [
        "plotMap(\"Closeness centrality\", cc, D.nodes, 0)"
      ]
    },
    {
      "cell_type": "markdown",
      "metadata": {},
      "source": [
        "## Betweenness centrality map"
      ]
    },
    {
      "cell_type": "code",
      "execution_count": null,
      "metadata": {},
      "outputs": [],
      "source": [
        "plotMap(\"Betweenness centrality\", bc, D.nodes, 0)"
      ]
    },
    {
      "cell_type": "markdown",
      "metadata": {},
      "source": [
        "## Page rank map"
      ]
    },
    {
      "cell_type": "code",
      "execution_count": null,
      "metadata": {},
      "outputs": [],
      "source": [
        "plotMap(\"Page rank\", pr, D.nodes, 0)"
      ]
    },
    {
      "cell_type": "code",
      "execution_count": null,
      "metadata": {},
      "outputs": [],
      "source": [
        "print(nx.algorithms.assortativity.degree_assortativity_coefficient(G))\n",
        "print(nx.algorithms.assortativity.degree_pearson_correlation_coefficient(G))"
      ]
    },
    {
      "cell_type": "code",
      "execution_count": null,
      "metadata": {},
      "outputs": [],
      "source": [
        "print(nx.algorithms.assortativity.degree_mixing_matrix(G))"
      ]
    },
    {
      "cell_type": "code",
      "execution_count": null,
      "metadata": {},
      "outputs": [],
      "source": [
        "#fig, ax = plt.subplots()\n",
        "\n",
        "min_val, max_val = min(D.degree, key = lambda d: d[1])[1], max(D.degree, key = lambda d: d[1])[1]\n",
        "\n",
        "mapping = {x: x for x in range(max_val//9)}\n",
        "\n",
        "matrix = nx.algorithms.assortativity.degree_mixing_matrix(D, mapping=mapping)\n",
        "\n",
        "# ax.matshow(matrix, cmap=plt.cm.Blues)\n",
        "\n",
        "# for i in range(max_val//9-1):\n",
        "#     for j in range(max_val//9-1):\n",
        "#         c = '%.2f'%(matrix[j,i])\n",
        "#         ax.text(i, j, str(c), va='center', ha='center')\n",
        "\n",
        "f = plt.figure(figsize=(19, 15))\n",
        "plt.matshow(matrix, fignum=f.number)\n",
        "# plt.xticks(range(df.select_dtypes(['number']).shape[1]), df.select_dtypes(['number']).columns, fontsize=14, rotation=45)\n",
        "# plt.yticks(range(df.select_dtypes(['number']).shape[1]), df.select_dtypes(['number']).columns, fontsize=14)\n",
        "cb = plt.colorbar()\n",
        "cb.ax.tick_params(labelsize=14)\n",
        "plt.title('Correlation Matrix', fontsize=16)"
      ]
    },
    {
      "cell_type": "markdown",
      "metadata": {},
      "source": [
        "## Studying the SI Model"
      ]
    },
    {
      "cell_type": "code",
      "execution_count": 150,
      "metadata": {},
      "outputs": [],
      "source": [
        "def plotMapSI(infected_dic, list_nodes):\n",
        "    newAirportsDF = pd.DataFrame(columns=['id', 'name', 'city', 'country', 'IATA', 'ICAO', 'lat', 'lon', 'alt', 'timezone', 'DST', 'Tz', 'type', 'source'])\n",
        "\n",
        "    # from the list given, add the nodes that have a higher centrality value than the threshold\n",
        "    for node in list_nodes:\n",
        "            x = airportsDF.loc[airportsDF['IATA'] == node]\n",
        "            x['color'] = 1 if infected_dic[node] else 0\n",
        "            x['markersize'] = 10\n",
        "            newAirportsDF = pd.concat([newAirportsDF, x])\n",
        "\n",
        "    geometry = [Point(xy) for xy in zip(newAirportsDF['lon'], newAirportsDF['lat'])]\n",
        "    gdf = GeoDataFrame(newAirportsDF, geometry=geometry)\n",
        "\n",
        "    # #this is a simple map that goes with geopandas\n",
        "    world = gpd.read_file(gpd.datasets.get_path('naturalearth_lowres'))\n",
        "    gdf.plot(column=\"color\", ax=world.plot(figsize=(20, 12)), marker='o', markersize=\"markersize\", cmap='bwr') \n",
        "            #,legend=True, legend_kwds={\"label\": label, \"orientation\": \"horizontal\"})"
      ]
    },
    {
      "cell_type": "code",
      "execution_count": 151,
      "metadata": {},
      "outputs": [],
      "source": [
        "def plotSI(infected, susceptible):\n",
        "    days = list(range(len(infected)))\n",
        "    plt.figure(2)\n",
        "    plt.plot(days, infected, label=\"Infected\", color=\"red\")\n",
        "    plt.plot(days, susceptible, label=\"Susceptible\", color=\"blue\")\n",
        "    plt.xlabel(\"Days\")\n",
        "    plt.ylabel(\"Number of people\")\n",
        "    plt.legend()\n",
        "    plt.margins(x=0, y=0)\n",
        "    plt.grid()"
      ]
    },
    {
      "cell_type": "code",
      "execution_count": 159,
      "metadata": {},
      "outputs": [],
      "source": [
        "\n",
        "# compute SI step\n",
        "def SI_step(network):\n",
        "    for node in network.nodes:\n",
        "        if network.nodes[node]['infected'] and network.nodes[node]['active']:\n",
        "            for neighbor in network.neighbors(node):\n",
        "                if not network.nodes[neighbor]['infected']:\n",
        "                    if np.random.random() < network.nodes[node]['beta']:\n",
        "                        network.nodes[neighbor]['infected'] = True\n",
        "\n",
        "# compute SI model\n",
        "def SI_model(network, dc_sorted, nSteps, starterNode, theDay, airportPercentage):\n",
        "    susceptible = []\n",
        "    infected = []\n",
        "    network.nodes[starterNode]['infected'] = True\n",
        "    for step in range(nSteps):\n",
        "        # remove nodes based on degree centrality at the Day\n",
        "        if(step == theDay):\n",
        "            # get the top 20% of nodes based on degree centrality\n",
        "            closedAirports = dc_sorted[0:int(len(dc_sorted)*airportPercentage)]\n",
        "            # remove the nodes that are not in the top 20%\n",
        "            for node in network.nodes:\n",
        "                if node in closedAirports:\n",
        "                    network.nodes[node]['beta'] = 0.0001\n",
        "\n",
        "        susceptible.append(len([node for node in network.nodes if not network.nodes[node]['infected']]))\n",
        "        infected.append(len([node for node in network.nodes if network.nodes[node]['infected']]))\n",
        "        SI_step(network)\n",
        "    \n",
        "    return susceptible, infected\n",
        "\n",
        "def full_SI_model(graph, degree_centrality, nSteps, starterNode, theDay, airportPercentage):\n",
        "    network = graph.copy()\n",
        "    # get largest strongly connected component\n",
        "    sccs = nx.strongly_connected_components(network)\n",
        "    sccs_graphs = (network.subgraph(c) for c in sccs)\n",
        "    network = list(sccs_graphs)[0]\n",
        "\n",
        "    # sorted degree centrality\n",
        "    dc_sorted = sorted(degree_centrality, key=dc.get, reverse=True)\n",
        "\n",
        "    # add infection and recovery rate to nodes\n",
        "    for node in network.nodes:\n",
        "        network.nodes[node]['beta'] = 0.01\n",
        "        network.nodes[node]['infected'] = False\n",
        "        network.nodes[node]['active'] = True\n",
        "\n",
        "    susceptible, infected = SI_model(network, dc_sorted, nSteps, starterNode, theDay, airportPercentage)\n",
        "    return susceptible, infected, network\n",
        "\n"
      ]
    },
    {
      "cell_type": "code",
      "execution_count": 162,
      "metadata": {},
      "outputs": [
        {
          "name": "stdout",
          "output_type": "stream",
          "text": [
            "2452\n",
            "738\n"
          ]
        },
        {
          "data": {
            "image/png": "[encoded data removed]",
            "text/plain": [
              "<Figure size 640x480 with 1 Axes>"
            ]
          },
          "metadata": {},
          "output_type": "display_data"
        },
        {
          "data": {
            "image/png": "[encoded data removed]",
            "text/plain": [
              "<Figure size 640x480 with 1 Axes>"
            ]
          },
          "metadata": {},
          "output_type": "display_data"
        },
        {
          "data": {
            "image/png": "[encoded data removed]",
            "text/plain": [
              "<Figure size 640x480 with 1 Axes>"
            ]
          },
          "metadata": {},
          "output_type": "display_data"
        }
      ],
      "source": [
        "# model without preventive measures\n",
        "susceptible, infected, network = full_SI_model(G, dc, 100, 'LIS', 0, 0)\n",
        "days = list(range(len(infected)))\n",
        "\n",
        "infected_dic = {node:network.nodes[node]['infected'] for node in network.nodes}\n",
        "#plt.figure(1)\n",
        "#plotMapSI(infected_dic, network.nodes.keys())\n",
        "print(infected[len(infected)-1])\n",
        "print(susceptible[len(susceptible)-1])\n",
        "\n",
        "# model with preventive measures\n",
        "susceptible_prev, infected_prev, network_prev = full_SI_model(G, dc, 100, 'LIS', 7, 0.02)\n",
        "infected_dic_prev = {node:network_prev.nodes[node]['infected'] for node in network_prev.nodes}\n",
        "\n",
        "plt.figure(1)\n",
        "plt.plot(days, infected, label=\"Infected\", color=\"red\")\n",
        "plt.plot(days, susceptible, label=\"Susceptible\", color=\"blue\")\n",
        "plt.plot(days, infected_prev, label=\"Infected (prev. measures)\", color=\"red\", linestyle='dashed')\n",
        "plt.plot(days, susceptible_prev, label=\"Susceptible (prev. measures)\", color=\"blue\", linestyle='dashed')\n",
        "plt.xlabel(\"Days\")\n",
        "plt.ylabel(\"Number of people\")\n",
        "plt.legend()\n",
        "plt.margins(x=0, y=0)\n",
        "plt.grid()\n",
        "\n",
        "#plt.figure(3)\n",
        "#plotMapSI(infected_dic_prev, network.nodes.keys())\n",
        "\n",
        "plt.figure(2)\n",
        "plt.plot(days, infected, label=\"Infected\", color=\"red\")\n",
        "plt.plot(days, susceptible, label=\"Susceptible\", color=\"blue\")\n",
        "plt.xlabel(\"Days\")\n",
        "plt.ylabel(\"Number of people\")\n",
        "plt.legend()\n",
        "plt.margins(x=0, y=0)\n",
        "plt.grid()\n",
        "\n",
        "plt.figure(3)\n",
        "plt.plot(days, infected_prev, label=\"Infected\", color=\"red\")\n",
        "plt.plot(days, susceptible_prev, label=\"Susceptible\", color=\"blue\")\n",
        "plt.xlabel(\"Days\")\n",
        "plt.ylabel(\"Number of people\")\n",
        "plt.legend()\n",
        "plt.margins(x=0, y=0)\n",
        "plt.grid()"
      ]
    }
  ],
  "metadata": {
    "colab": {
      "provenance": []
    },
    "kernelspec": {
      "display_name": "Python 3",
      "name": "python3"
    },
    "language_info": {
      "codemirror_mode": {
        "name": "ipython",
        "version": 3
      },
      "file_extension": ".py",
      "mimetype": "text/x-python",
      "name": "python",
      "nbconvert_exporter": "python",
      "pygments_lexer": "ipython3",
      "version": "3.10.12"
    }
  },
  "nbformat": 4,
  "nbformat_minor": 0
}
